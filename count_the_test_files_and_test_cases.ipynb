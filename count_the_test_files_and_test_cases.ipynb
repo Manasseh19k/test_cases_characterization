{
  "cells": [
    {
      "cell_type": "markdown",
      "metadata": {
        "id": "view-in-github",
        "colab_type": "text"
      },
      "source": [
        "<a href=\"https://colab.research.google.com/github/Manasseh19k/test_cases_characterization/blob/main/count_the_test_files_and_test_cases.ipynb\" target=\"_parent\"><img src=\"https://colab.research.google.com/assets/colab-badge.svg\" alt=\"Open In Colab\"/></a>"
      ]
    },
    {
      "cell_type": "code",
      "execution_count": null,
      "metadata": {
        "colab": {
          "base_uri": "https://localhost:8080/"
        },
        "id": "GiuRbapIQLM_",
        "outputId": "105cb12a-84bb-4069-a4eb-7123da5e0f68"
      },
      "outputs": [
        {
          "name": "stdout",
          "output_type": "stream",
          "text": [
            "Collecting GitPython\n",
            "  Downloading GitPython-3.1.43-py3-none-any.whl.metadata (13 kB)\n",
            "Collecting gitdb<5,>=4.0.1 (from GitPython)\n",
            "  Downloading gitdb-4.0.11-py3-none-any.whl.metadata (1.2 kB)\n",
            "Collecting smmap<6,>=3.0.1 (from gitdb<5,>=4.0.1->GitPython)\n",
            "  Downloading smmap-5.0.1-py3-none-any.whl.metadata (4.3 kB)\n",
            "Downloading GitPython-3.1.43-py3-none-any.whl (207 kB)\n",
            "\u001b[2K   \u001b[90m━━━━━━━━━━━━━━━━━━━━━━━━━━━━━━━━━━━━━━━━\u001b[0m \u001b[32m207.3/207.3 kB\u001b[0m \u001b[31m4.3 MB/s\u001b[0m eta \u001b[36m0:00:00\u001b[0m\n",
            "\u001b[?25hDownloading gitdb-4.0.11-py3-none-any.whl (62 kB)\n",
            "\u001b[2K   \u001b[90m━━━━━━━━━━━━━━━━━━━━━━━━━━━━━━━━━━━━━━━━\u001b[0m \u001b[32m62.7/62.7 kB\u001b[0m \u001b[31m3.1 MB/s\u001b[0m eta \u001b[36m0:00:00\u001b[0m\n",
            "\u001b[?25hDownloading smmap-5.0.1-py3-none-any.whl (24 kB)\n",
            "Installing collected packages: smmap, gitdb, GitPython\n",
            "Successfully installed GitPython-3.1.43 gitdb-4.0.11 smmap-5.0.1\n"
          ]
        }
      ],
      "source": [
        "import csv\n",
        "import os\n",
        "import subprocess\n",
        "import re\n",
        "!pip install GitPython\n",
        "from git import Repo"
      ]
    },
    {
      "cell_type": "code",
      "execution_count": null,
      "metadata": {
        "id": "6A88uMd-RKdk"
      },
      "outputs": [],
      "source": [
        "# Directory where the repositories will be cloned\n",
        "CLONE_DIR = './cloned_projects'\n",
        "\n",
        "# Regex pattern to match test cases (assuming JUnit annotations)\n",
        "TEST_CASE_PATTERN = re.compile(r'@Test')"
      ]
    },
    {
      "cell_type": "code",
      "execution_count": null,
      "metadata": {
        "id": "2EhFe49gR2it"
      },
      "outputs": [],
      "source": [
        "# Function to count test files and test cases\n",
        "def count_test_files_and_cases(repo_dir):\n",
        "  test_file_count = 0\n",
        "  test_case_count = 0\n",
        "\n",
        "  # Walk through the directory structure\n",
        "  for root, dirs, files in os.walk(repo_dir):\n",
        "    for file in files:\n",
        "      if file.endswith('.java') and 'test' in root.lower():\n",
        "        test_file_count += 1\n",
        "\n",
        "        # Count test cases in each test file\n",
        "        with open(os.path.join(root, file), 'r', encoding='utf-8') as f:\n",
        "          content = f.read()\n",
        "          test_case_count += len(TEST_CASE_PATTERN.findall(content))\n",
        "  return test_file_count, test_case_count"
      ]
    },
    {
      "cell_type": "code",
      "execution_count": null,
      "metadata": {
        "id": "qIZvHQfMTVBg"
      },
      "outputs": [],
      "source": [
        "# Function to clone a repositor and analyze its test files\n",
        "def analyze_repository(repo_name, repo_url):\n",
        "  repo_dir = os.path.join(CLONE_DIR, repo_name)\n",
        "\n",
        "  try:\n",
        "    # Clone the repository\n",
        "    Repo.clone_from(repo_url, repo_dir)\n",
        "    print(f\"Cloned {repo_name}\")\n",
        "\n",
        "    # Count test files and test cases\n",
        "    test_file_count, test_case_count = count_test_files_and_cases(repo_dir)\n",
        "\n",
        "    # Clean up: Remove the cloned repository after counting\n",
        "    subprocess.call(['rm', '-rf', repo_dir])\n",
        "\n",
        "    return test_file_count, test_case_count\n",
        "\n",
        "  except Exception as e:\n",
        "    print(f\"Failed to clone or analyze {repo_name}: {e}\")\n",
        "    return 0, 0"
      ]
    },
    {
      "cell_type": "code",
      "execution_count": null,
      "metadata": {
        "id": "GUcMcRLtVo8G"
      },
      "outputs": [],
      "source": [
        "# Function to process the csv file and generate a new CSV with test data\n",
        "def process_csv(input_csv, output_csv):\n",
        "  # Ensure clone directory exists\n",
        "  os.makedirs(CLONE_DIR, exist_ok=True)\n",
        "\n",
        "  with open(input_csv, 'r', encoding='utf-8') as infile, open(output_csv, 'w', newline='', encoding='utf-8') as outfile:\n",
        "    reader = csv.DictReader(infile)\n",
        "    writer = csv.writer(outfile)\n",
        "\n",
        "    # Writer header for the output CSV\n",
        "    writer.writerow(['Project Name', 'Project Link', 'Amount of Test Files', 'Amount of Test Cases'])\n",
        "\n",
        "    # Process each project\n",
        "    for row in reader:\n",
        "      project_name = row['Project Name']\n",
        "      project_link = row['Project Link']\n",
        "\n",
        "      print(f\"Processing {project_name}...\")\n",
        "\n",
        "      # Analyze the repository to count test files and cases\n",
        "      test_file_count, test_case_count = analyze_repository(project_name, project_link)\n",
        "\n",
        "      # Write the results to the new csv\n",
        "      writer.writerow([project_name, project_link, test_file_count, test_case_count])"
      ]
    },
    {
      "cell_type": "code",
      "execution_count": null,
      "metadata": {
        "colab": {
          "background_save": true,
          "base_uri": "https://localhost:8080/"
        },
        "id": "YUpNzBsHYZcU",
        "outputId": "be432cc5-2c68-410f-9153-df4c16c30ae6"
      },
      "outputs": [
        {
          "name": "stdout",
          "output_type": "stream",
          "text": [
            "Processing elasticsearch...\n",
            "Cloned elasticsearch\n",
            "Processing dbeaver...\n",
            "Cloned dbeaver\n",
            "Processing nacos...\n",
            "Cloned nacos\n",
            "Processing kafka...\n",
            "Cloned kafka\n",
            "Processing incubator-seata...\n",
            "Cloned incubator-seata\n",
            "Processing skywalking...\n",
            "Cloned skywalking\n",
            "Processing libgdx...\n",
            "Cloned libgdx\n",
            "Processing jenkins...\n",
            "Cloned jenkins\n",
            "Processing Mindustry...\n",
            "Cloned Mindustry\n",
            "Processing rocketmq...\n",
            "Cloned rocketmq\n",
            "Processing shardingsphere...\n",
            "Cloned shardingsphere\n",
            "Processing material-components-android...\n",
            "Cloned material-components-android\n",
            "Processing pulsar...\n",
            "Cloned pulsar\n",
            "Processing lombok...\n",
            "Cloned lombok\n",
            "Processing greenDAO...\n",
            "Cloned greenDAO\n",
            "Processing PermissionsDispatcher...\n",
            "Cloned PermissionsDispatcher\n",
            "Processing interview...\n",
            "Cloned interview\n",
            "Processing platform_frameworks_base...\n",
            "Cloned platform_frameworks_base\n",
            "Processing clojure...\n",
            "Cloned clojure\n",
            "Processing plantuml...\n",
            "Cloned plantuml\n",
            "Processing CoreNLP...\n",
            "Cloned CoreNLP\n",
            "Processing OpenSearch...\n",
            "Cloned OpenSearch\n",
            "Processing lawnchair...\n",
            "Cloned lawnchair\n",
            "Processing spring-security...\n",
            "Cloned spring-security\n",
            "Processing cassandra...\n",
            "Cloned cassandra\n",
            "Processing starrocks...\n",
            "Cloned starrocks\n",
            "Processing buck...\n",
            "Cloned buck\n",
            "Processing jna...\n",
            "Cloned jna\n",
            "Processing shardingsphere-elasticjob...\n",
            "Cloned shardingsphere-elasticjob\n",
            "Processing kestra...\n",
            "Cloned kestra\n",
            "Processing tomcat...\n",
            "Cloned tomcat\n",
            "Processing closure-compiler...\n",
            "Cloned closure-compiler\n",
            "Processing gocd...\n",
            "Cloned gocd\n",
            "Processing Android-Image-Cropper...\n",
            "Cloned Android-Image-Cropper\n",
            "Processing camel...\n",
            "Cloned camel\n",
            "Processing hippo4j...\n",
            "Cloned hippo4j\n",
            "Processing AndroidVideoCache...\n",
            "Cloned AndroidVideoCache\n",
            "Processing opentsdb...\n",
            "Cloned opentsdb\n",
            "Processing usb-serial-for-android...\n",
            "Cloned usb-serial-for-android\n",
            "Processing strimzi-kafka-operator...\n",
            "Cloned strimzi-kafka-operator\n",
            "Processing orientdb...\n",
            "Cloned orientdb\n",
            "Processing jpexs-decompiler...\n",
            "Cloned jpexs-decompiler\n",
            "Processing azkaban...\n",
            "Cloned azkaban\n",
            "Processing java-algorithms-implementation...\n",
            "Cloned java-algorithms-implementation\n",
            "Processing objectbox-java...\n",
            "Cloned objectbox-java\n",
            "Processing dragonwell8...\n",
            "Cloned dragonwell8\n",
            "Failed to clone or analyze dragonwell8: 'utf-8' codec can't decode byte 0xe9 in position 1157: invalid continuation byte\n",
            "Processing serve...\n",
            "Cloned serve\n",
            "Processing powermock...\n",
            "Cloned powermock\n",
            "Processing ipscan...\n",
            "Cloned ipscan\n",
            "Processing BackgroundLibrary...\n",
            "Cloned BackgroundLibrary\n",
            "Processing jetty.project...\n",
            "Cloned jetty.project\n",
            "Processing sofa-rpc...\n",
            "Cloned sofa-rpc\n",
            "Processing dynamic-tp...\n",
            "Cloned dynamic-tp\n",
            "Processing automq...\n",
            "Cloned automq\n",
            "Processing helidon...\n",
            "Cloned helidon\n",
            "Processing grpc-spring...\n",
            "Cloned grpc-spring\n",
            "Processing fernflower...\n",
            "Cloned fernflower\n",
            "Processing yacy_search_server...\n",
            "Cloned yacy_search_server\n",
            "Processing AxonFramework...\n",
            "Cloned AxonFramework\n",
            "Processing openj9...\n",
            "Cloned openj9\n",
            "Processing cyberduck...\n",
            "Cloned cyberduck\n",
            "Processing KISS...\n",
            "Cloned KISS\n",
            "Processing thymeleaf...\n",
            "Cloned thymeleaf\n",
            "Processing aws-cf-templates...\n",
            "Cloned aws-cf-templates\n",
            "Processing react-native-sqlite-storage...\n",
            "Cloned react-native-sqlite-storage\n",
            "Processing skija...\n",
            "Cloned skija\n",
            "Processing teavm...\n",
            "Cloned teavm\n",
            "CSV file with test data generated: java_projects_test_data.csv\n"
          ]
        }
      ],
      "source": [
        "# Main function to run the script\n",
        "if __name__ == '__main__':\n",
        "  input_csv = '/content/github_projects_java.csv'\n",
        "  output_csv = 'java_projects_test_data.csv'\n",
        "\n",
        "  process_csv(input_csv, output_csv)\n",
        "  print(f\"CSV file with test data generated: {output_csv}\")"
      ]
    },
    {
      "cell_type": "code",
      "execution_count": null,
      "metadata": {
        "id": "iR_uVsFmZNUz"
      },
      "outputs": [],
      "source": []
    }
  ],
  "metadata": {
    "colab": {
      "provenance": [],
      "authorship_tag": "ABX9TyNHX339AOxJvdxxPcgxpW8R",
      "include_colab_link": true
    },
    "kernelspec": {
      "display_name": "Python 3",
      "name": "python3"
    },
    "language_info": {
      "name": "python"
    }
  },
  "nbformat": 4,
  "nbformat_minor": 0
}